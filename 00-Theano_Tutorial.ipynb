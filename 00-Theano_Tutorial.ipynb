{
 "cells": [
  {
   "cell_type": "markdown",
   "metadata": {},
   "source": [
    "# theano Tutorial\n",
    "\n",
    "Available at https://github.com/zakkum42/theano_tutorial"
   ]
  },
  {
   "cell_type": "markdown",
   "metadata": {},
   "source": [
    "## What’s Theano\n",
    "A Python library for symbolic mathematics \n",
    "* Symbolic expression language/compiler \n",
    "* Tightly integrated with the Python ecosystem\n",
    "* Fast C/CUDA back-end and transparent GPU acceleration\n",
    "\n",
    "Developed at University of Montreal / Canada (January 2008)"
   ]
  },
  {
   "cell_type": "markdown",
   "metadata": {},
   "source": [
    "## Basic Concepts\n",
    "### General Steps of theano Applications\n",
    "* import theano package\n",
    "* Define theano _variables_\n",
    "* Define _symbolic expressions_ using variables\n",
    "* Compile a _function_ that can compute numeric values using expressions\n",
    "* Execute that function on data\n",
    "\n",
    "#### import theano package"
   ]
  },
  {
   "cell_type": "code",
   "execution_count": 98,
   "metadata": {},
   "outputs": [
    {
     "data": {
      "text/plain": [
       "'0.9.0.dev-c697eeab84e5b8a74908da654b66ec9eca4f1291'"
      ]
     },
     "execution_count": 98,
     "metadata": {},
     "output_type": "execute_result"
    }
   ],
   "source": [
    "import theano\n",
    "import theano.tensor as T\n",
    "theano.__version__"
   ]
  },
  {
   "cell_type": "code",
   "execution_count": null,
   "metadata": {
    "collapsed": true
   },
   "outputs": [],
   "source": []
  },
  {
   "cell_type": "code",
   "execution_count": 99,
   "metadata": {
    "collapsed": true
   },
   "outputs": [],
   "source": [
    "# Other libraries\n",
    "import numpy as np\n",
    "import matplotlib.pyplot as plt\n",
    "%matplotlib inline"
   ]
  },
  {
   "cell_type": "markdown",
   "metadata": {},
   "source": [
    "#### Define theano variables\n",
    "##### Constants"
   ]
  },
  {
   "cell_type": "code",
   "execution_count": 100,
   "metadata": {},
   "outputs": [
    {
     "name": "stdout",
     "output_type": "stream",
     "text": [
      "TensorConstant{0.01}\n"
     ]
    }
   ],
   "source": [
    "Lr = T.constant(0.01, 'LearingRate', dtype='float64')\n",
    "print (Lr)"
   ]
  },
  {
   "cell_type": "code",
   "execution_count": 101,
   "metadata": {},
   "outputs": [
    {
     "data": {
      "text/plain": [
       "theano.tensor.var.TensorConstant"
      ]
     },
     "execution_count": 101,
     "metadata": {},
     "output_type": "execute_result"
    }
   ],
   "source": [
    "type(Lr)"
   ]
  },
  {
   "cell_type": "markdown",
   "metadata": {},
   "source": [
    "##### Scalars (0-d)"
   ]
  },
  {
   "cell_type": "code",
   "execution_count": 102,
   "metadata": {
    "collapsed": true
   },
   "outputs": [],
   "source": [
    "Lr = T.scalar(dtype='float64')\n",
    "# or\n",
    "Lr = T.dscalar('LearningRate')"
   ]
  },
  {
   "cell_type": "markdown",
   "metadata": {},
   "source": [
    "Other scalar types:\n",
    "\n",
    "|Usage      |Size/Type |\n",
    "|-----------|----------|\n",
    "|T.fscalar()|float32   |\n",
    "|T.dscalar()|float64   |\n",
    "|T.bscalar()|int8      |\n",
    "|T.wscalar()|int16     |\n",
    "|T.iscalar()|int32     |\n",
    "|T.lscalar()|int64     |\n",
    "|T.cscalar()|complex64 |\n",
    "|T.zscalar()|complex128|"
   ]
  },
  {
   "cell_type": "markdown",
   "metadata": {},
   "source": [
    "##### Vectors (1-d)"
   ]
  },
  {
   "cell_type": "code",
   "execution_count": 103,
   "metadata": {
    "collapsed": true
   },
   "outputs": [],
   "source": [
    "X = T.vector('X', dtype='float32')\n",
    "# or\n",
    "Y = T.dvector('Y') # dtype='float64'"
   ]
  },
  {
   "cell_type": "code",
   "execution_count": 104,
   "metadata": {},
   "outputs": [
    {
     "data": {
      "text/plain": [
       "theano.tensor.var.TensorVariable"
      ]
     },
     "execution_count": 104,
     "metadata": {},
     "output_type": "execute_result"
    }
   ],
   "source": [
    "type(X)"
   ]
  },
  {
   "cell_type": "markdown",
   "metadata": {},
   "source": [
    "##### Matrices (2-d)"
   ]
  },
  {
   "cell_type": "code",
   "execution_count": 105,
   "metadata": {
    "collapsed": true
   },
   "outputs": [],
   "source": [
    "W = T.matrix('W', dtype='float32')\n",
    "# or\n",
    "b = T.dmatrix('b') # dtype='float64'"
   ]
  },
  {
   "cell_type": "markdown",
   "metadata": {},
   "source": [
    "#### Define symbolic expressions using variables\n",
    "Example: $y = 2 * x + 5$"
   ]
  },
  {
   "cell_type": "code",
   "execution_count": 106,
   "metadata": {
    "collapsed": true
   },
   "outputs": [],
   "source": [
    "a = T.constant(2,'a')\n",
    "x = T.scalar('X')\n",
    "c = T.constant(5,'c')"
   ]
  },
  {
   "cell_type": "code",
   "execution_count": 107,
   "metadata": {
    "collapsed": true
   },
   "outputs": [],
   "source": [
    "y = a * x + c"
   ]
  },
  {
   "cell_type": "markdown",
   "metadata": {},
   "source": [
    "#### Compile Function\n",
    "Example: $f(x) = y = 2 * x + 5$"
   ]
  },
  {
   "cell_type": "code",
   "execution_count": 108,
   "metadata": {
    "collapsed": true
   },
   "outputs": [],
   "source": [
    "fx = theano.function(inputs=[x], outputs=y)"
   ]
  },
  {
   "cell_type": "markdown",
   "metadata": {},
   "source": [
    "#### Execute function\n",
    "Example: $f(5)$"
   ]
  },
  {
   "cell_type": "code",
   "execution_count": 109,
   "metadata": {},
   "outputs": [
    {
     "data": {
      "text/plain": [
       "array(15.0, dtype=float32)"
      ]
     },
     "execution_count": 109,
     "metadata": {},
     "output_type": "execute_result"
    }
   ],
   "source": [
    "# Now let's try\n",
    "fx(5)"
   ]
  },
  {
   "cell_type": "markdown",
   "metadata": {},
   "source": [
    "#### More on Symbolic Expressions"
   ]
  },
  {
   "cell_type": "code",
   "execution_count": 110,
   "metadata": {
    "collapsed": true
   },
   "outputs": [],
   "source": [
    "from theano import pp\n"
   ]
  },
  {
   "cell_type": "code",
   "execution_count": 111,
   "metadata": {},
   "outputs": [
    {
     "data": {
      "text/plain": [
       "'((TensorConstant{2} * X) + TensorConstant{5})'"
      ]
     },
     "execution_count": 111,
     "metadata": {},
     "output_type": "execute_result"
    }
   ],
   "source": [
    "pp(y)"
   ]
  },
  {
   "cell_type": "code",
   "execution_count": 112,
   "metadata": {},
   "outputs": [
    {
     "data": {
      "text/plain": [
       "'HostFromGpu(GpuElemwise{Composite{(i0 + (i1 * i2))}}[(0, 2)](CudaNdarrayConstant{5.0}, CudaNdarrayConstant{2.0}, GpuFromHost(X)))'"
      ]
     },
     "execution_count": 112,
     "metadata": {},
     "output_type": "execute_result"
    }
   ],
   "source": [
    "pp(fx.maker.fgraph.outputs[0])"
   ]
  },
  {
   "cell_type": "code",
   "execution_count": 113,
   "metadata": {},
   "outputs": [
    {
     "name": "stdout",
     "output_type": "stream",
     "text": [
      "Elemwise{add,no_inplace} [id A] ''   \n",
      " |Elemwise{mul,no_inplace} [id B] ''   \n",
      " | |TensorConstant{2} [id C]\n",
      " | |X [id D]\n",
      " |TensorConstant{5} [id E]\n"
     ]
    }
   ],
   "source": [
    "theano.printing.debugprint(y)"
   ]
  },
  {
   "cell_type": "code",
   "execution_count": 114,
   "metadata": {},
   "outputs": [
    {
     "name": "stdout",
     "output_type": "stream",
     "text": [
      "HostFromGpu [id A] ''   2\n",
      " |GpuElemwise{Composite{(i0 + (i1 * i2))}}[(0, 2)] [id B] ''   1\n",
      "   |CudaNdarrayConstant{5.0} [id C]\n",
      "   |CudaNdarrayConstant{2.0} [id D]\n",
      "   |GpuFromHost [id E] ''   0\n",
      "     |X [id F]\n"
     ]
    }
   ],
   "source": [
    "theano.printing.debugprint(fx)"
   ]
  },
  {
   "cell_type": "code",
   "execution_count": 115,
   "metadata": {},
   "outputs": [
    {
     "name": "stdout",
     "output_type": "stream",
     "text": [
      "The output file is available at y.png\n"
     ]
    }
   ],
   "source": [
    "theano.printing.pydotprint(y, outfile=\"y.png\", var_with_name_simple=True)"
   ]
  },
  {
   "cell_type": "markdown",
   "metadata": {},
   "source": [
    "![y](y.png)"
   ]
  },
  {
   "cell_type": "code",
   "execution_count": 116,
   "metadata": {},
   "outputs": [
    {
     "name": "stdout",
     "output_type": "stream",
     "text": [
      "The output file is available at fx.png\n"
     ]
    }
   ],
   "source": [
    "theano.printing.pydotprint(fx, outfile=\"fx.png\", var_with_name_simple=True)"
   ]
  },
  {
   "cell_type": "markdown",
   "metadata": {},
   "source": [
    "![fx](fx.png)"
   ]
  },
  {
   "cell_type": "markdown",
   "metadata": {},
   "source": [
    "#### Vector Example\n",
    "Example: $f(X,Y) = X + Y$, where $X$, and $Y$ are vectors."
   ]
  },
  {
   "cell_type": "code",
   "execution_count": 117,
   "metadata": {
    "collapsed": true
   },
   "outputs": [],
   "source": [
    "# Define Symbolic Variables\n",
    "X = T.vector('X')\n",
    "Y = T.vector('Y')"
   ]
  },
  {
   "cell_type": "code",
   "execution_count": 118,
   "metadata": {
    "collapsed": true
   },
   "outputs": [],
   "source": [
    "# Define Symbolic Expression\n",
    "sum = X+Y"
   ]
  },
  {
   "cell_type": "code",
   "execution_count": 119,
   "metadata": {
    "collapsed": true
   },
   "outputs": [],
   "source": [
    "# Define Function f(X,Y) \n",
    "sumXY = theano.function(inputs=[X,Y], outputs=sum)"
   ]
  },
  {
   "cell_type": "code",
   "execution_count": 120,
   "metadata": {},
   "outputs": [
    {
     "data": {
      "text/plain": [
       "array([ 3.,  3.,  3.], dtype=float32)"
      ]
     },
     "execution_count": 120,
     "metadata": {},
     "output_type": "execute_result"
    }
   ],
   "source": [
    "# add [1,1,1] and [2,2,2]\n",
    "sumXY([1,1,1], [2,2,2])"
   ]
  },
  {
   "cell_type": "markdown",
   "metadata": {},
   "source": [
    "#### Matrix Example\n",
    "Example: $f(X) = X^T$ and $g(X,Y) = X Y$"
   ]
  },
  {
   "cell_type": "code",
   "execution_count": 121,
   "metadata": {
    "collapsed": true
   },
   "outputs": [],
   "source": [
    "# Define Symbolic Variables\n",
    "Xm = T.matrix('X')\n",
    "Ym = T.matrix('Y')"
   ]
  },
  {
   "cell_type": "code",
   "execution_count": 122,
   "metadata": {
    "collapsed": true
   },
   "outputs": [],
   "source": [
    "# Define Symbolic Expression\n",
    "X_transpose = T.transpose(Xm)\n",
    "XY_prod = T.dot(Xm,Ym)"
   ]
  },
  {
   "cell_type": "code",
   "execution_count": 123,
   "metadata": {
    "collapsed": true
   },
   "outputs": [],
   "source": [
    "# Define Functions\n",
    "Xt = theano.function([Xm], X_transpose)"
   ]
  },
  {
   "cell_type": "code",
   "execution_count": 124,
   "metadata": {},
   "outputs": [
    {
     "name": "stdout",
     "output_type": "stream",
     "text": [
      "X=\n",
      "[[ 1.  2.  3.]\n",
      " [ 4.  5.  6.]\n",
      " [ 7.  8.  9.]]\n",
      "Y=\n",
      "[[ 5.  0.  0.]\n",
      " [ 0.  5.  0.]\n",
      " [ 0.  0.  5.]]\n"
     ]
    }
   ],
   "source": [
    "X = np.matrix([\n",
    "    [1, 2, 3],\n",
    "    [4, 5, 6],\n",
    "    [7, 8, 9]\n",
    "], dtype='float32')\n",
    "print \"X=\"; print X\n",
    "\n",
    "Y = np.identity(3, dtype='float32') * 5\n",
    "print \"Y=\"; print Y"
   ]
  },
  {
   "cell_type": "code",
   "execution_count": 125,
   "metadata": {},
   "outputs": [
    {
     "data": {
      "text/plain": [
       "array([[ 1.,  4.,  7.],\n",
       "       [ 2.,  5.,  8.],\n",
       "       [ 3.,  6.,  9.]], dtype=float32)"
      ]
     },
     "execution_count": 125,
     "metadata": {},
     "output_type": "execute_result"
    }
   ],
   "source": [
    "Xt(X)"
   ]
  },
  {
   "cell_type": "code",
   "execution_count": 126,
   "metadata": {
    "collapsed": true
   },
   "outputs": [],
   "source": [
    "prodXY = theano.function([Xm,Ym], XY_prod)"
   ]
  },
  {
   "cell_type": "code",
   "execution_count": 127,
   "metadata": {},
   "outputs": [
    {
     "data": {
      "text/plain": [
       "array([[  5.,  10.,  15.],\n",
       "       [ 20.,  25.,  30.],\n",
       "       [ 35.,  40.,  45.]], dtype=float32)"
      ]
     },
     "execution_count": 127,
     "metadata": {},
     "output_type": "execute_result"
    }
   ],
   "source": [
    "prodXY(X, Y)"
   ]
  },
  {
   "cell_type": "markdown",
   "metadata": {},
   "source": [
    "#### Tensor Operations\n",
    "* Data types (vector, matrix, tensor3, tensor4, etc.)\n",
    "* Vector/Matrix (dot, transpose, ones,  zeros, etc.)\n",
    "* Power (power, exp, exp2, etc.)\n",
    "* Logarithm (log, log10, log2, log1p, etc.)\n",
    "* Trigonometry (sin[h], cos[h], tan[h], etc.)\n",
    "* Logic operators (and, or, xor, etc.) \n",
    "* Comparators (eq, lt, gt, ge, le, neq, etc.) \n",
    "* Bitwise operators (bitwise_and, bitwise_or, etc.)\n",
    "* max, min, argmax, argmin, etc.\n",
    "* square, sqrt, etc.\n",
    "* ceil, floor, etc."
   ]
  },
  {
   "cell_type": "code",
   "execution_count": 128,
   "metadata": {
    "collapsed": true
   },
   "outputs": [],
   "source": [
    "logX = T.log(Xm)"
   ]
  },
  {
   "cell_type": "code",
   "execution_count": 129,
   "metadata": {
    "collapsed": true
   },
   "outputs": [],
   "source": [
    "flX = theano.function([Xm], logX)"
   ]
  },
  {
   "cell_type": "code",
   "execution_count": 130,
   "metadata": {},
   "outputs": [
    {
     "data": {
      "text/plain": [
       "matrix([[ 1.,  2.,  3.],\n",
       "        [ 4.,  5.,  6.],\n",
       "        [ 7.,  8.,  9.]], dtype=float32)"
      ]
     },
     "execution_count": 130,
     "metadata": {},
     "output_type": "execute_result"
    }
   ],
   "source": [
    "X"
   ]
  },
  {
   "cell_type": "code",
   "execution_count": 131,
   "metadata": {},
   "outputs": [
    {
     "data": {
      "text/plain": [
       "array([[ 0.        ,  0.69314718,  1.09861231],\n",
       "       [ 1.38629436,  1.60943794,  1.79175949],\n",
       "       [ 1.94591022,  2.07944155,  2.19722462]], dtype=float32)"
      ]
     },
     "execution_count": 131,
     "metadata": {},
     "output_type": "execute_result"
    }
   ],
   "source": [
    "flX(X)"
   ]
  },
  {
   "cell_type": "markdown",
   "metadata": {},
   "source": [
    "## More Theano Concepts\n",
    "### Default Input Values\n",
    "Example: Consider following function definition in python:\n",
    "<pre>\n",
    "def fxy(x, y=1): \n",
    "</pre>\n",
    "Let's mimic this with _theano_."
   ]
  },
  {
   "cell_type": "code",
   "execution_count": 132,
   "metadata": {
    "collapsed": true
   },
   "outputs": [],
   "source": [
    "from theano import In\n",
    "# Define Symbolic Expression\n",
    "x, y = T.dscalars('x', 'y')\n",
    "z = x + y"
   ]
  },
  {
   "cell_type": "code",
   "execution_count": 133,
   "metadata": {
    "collapsed": true
   },
   "outputs": [],
   "source": [
    "# Define Functions\n",
    "fxy = theano.function([x, In(y, value=1)], z)"
   ]
  },
  {
   "cell_type": "code",
   "execution_count": 134,
   "metadata": {},
   "outputs": [
    {
     "data": {
      "text/plain": [
       "array(34.0)"
      ]
     },
     "execution_count": 134,
     "metadata": {},
     "output_type": "execute_result"
    }
   ],
   "source": [
    "fxy(33)"
   ]
  },
  {
   "cell_type": "code",
   "execution_count": 135,
   "metadata": {},
   "outputs": [
    {
     "data": {
      "text/plain": [
       "array(35.0)"
      ]
     },
     "execution_count": 135,
     "metadata": {},
     "output_type": "execute_result"
    }
   ],
   "source": [
    "fxy(33,2)"
   ]
  },
  {
   "cell_type": "markdown",
   "metadata": {},
   "source": [
    "### Input Variable Names\n",
    "Example: Consider following function definition in python:\n",
    "<pre>\n",
    "def fxyw(x, y=1, weight=2): \n",
    "</pre>\n",
    "Let's mimic this with _theano_.\n"
   ]
  },
  {
   "cell_type": "code",
   "execution_count": 136,
   "metadata": {
    "collapsed": true
   },
   "outputs": [],
   "source": [
    "# Define Symbolic Expression\n",
    "x, y, w = T.dscalars('x', 'y', 'w')\n",
    "z = (x + y) * w"
   ]
  },
  {
   "cell_type": "code",
   "execution_count": 137,
   "metadata": {
    "collapsed": true
   },
   "outputs": [],
   "source": [
    "# Define Functions\n",
    "fxyw = theano.function([x, In(y, value=1), \n",
    "                           In(w, value=2, name='weight')], z)"
   ]
  },
  {
   "cell_type": "code",
   "execution_count": 138,
   "metadata": {},
   "outputs": [
    {
     "data": {
      "text/plain": [
       "array(68.0)"
      ]
     },
     "execution_count": 138,
     "metadata": {},
     "output_type": "execute_result"
    }
   ],
   "source": [
    "fxyw(33)"
   ]
  },
  {
   "cell_type": "code",
   "execution_count": 139,
   "metadata": {},
   "outputs": [
    {
     "data": {
      "text/plain": [
       "array(70.0)"
      ]
     },
     "execution_count": 139,
     "metadata": {},
     "output_type": "execute_result"
    }
   ],
   "source": [
    "fxyw(33, 2)"
   ]
  },
  {
   "cell_type": "code",
   "execution_count": 140,
   "metadata": {},
   "outputs": [
    {
     "data": {
      "text/plain": [
       "array(33.0)"
      ]
     },
     "execution_count": 140,
     "metadata": {},
     "output_type": "execute_result"
    }
   ],
   "source": [
    "fxyw(33, 0, 1)"
   ]
  },
  {
   "cell_type": "code",
   "execution_count": 141,
   "metadata": {},
   "outputs": [
    {
     "data": {
      "text/plain": [
       "array(34.0)"
      ]
     },
     "execution_count": 141,
     "metadata": {},
     "output_type": "execute_result"
    }
   ],
   "source": [
    "fxyw(33, weight=1)"
   ]
  },
  {
   "cell_type": "code",
   "execution_count": 142,
   "metadata": {},
   "outputs": [
    {
     "data": {
      "text/plain": [
       "array(33.0)"
      ]
     },
     "execution_count": 142,
     "metadata": {},
     "output_type": "execute_result"
    }
   ],
   "source": [
    "fxyw(33, weight=1, y=0)"
   ]
  },
  {
   "cell_type": "markdown",
   "metadata": {},
   "source": [
    "### Shared Variables \n",
    "Example: Create a shared variable to count number of _theano_ function calls.\n",
    "<pre>\n",
    "def fy(&lt;inputs&gt;):\n",
    "    &lt;function body&gt;\n",
    "    count = count + 1\n",
    "</pre>"
   ]
  },
  {
   "cell_type": "code",
   "execution_count": 143,
   "metadata": {
    "collapsed": true
   },
   "outputs": [],
   "source": [
    "# Define Symbolic Expression\n",
    "a = T.constant(2)\n",
    "x = T.scalar()\n",
    "c = T.constant(5)\n",
    "y = a * x + c \n",
    "z = y**2"
   ]
  },
  {
   "cell_type": "code",
   "execution_count": 144,
   "metadata": {
    "collapsed": true
   },
   "outputs": [],
   "source": [
    "# Define shared variable\n",
    "count = theano.shared(0)"
   ]
  },
  {
   "cell_type": "code",
   "execution_count": 145,
   "metadata": {
    "collapsed": true
   },
   "outputs": [],
   "source": [
    "# Define Functions\n",
    "fy = theano.function([x], y, updates=[(count, count+1)])"
   ]
  },
  {
   "cell_type": "code",
   "execution_count": 146,
   "metadata": {
    "collapsed": true
   },
   "outputs": [],
   "source": [
    "fz = theano.function([x], z, updates=[(count, count+1)])"
   ]
  },
  {
   "cell_type": "code",
   "execution_count": 147,
   "metadata": {},
   "outputs": [
    {
     "name": "stdout",
     "output_type": "stream",
     "text": [
      "0\n",
      "9.0\n",
      "81.0\n",
      "2\n"
     ]
    }
   ],
   "source": [
    "print count.get_value() # count = 0\n",
    "print fy(2) \n",
    "print fz(2) # y^2\n",
    "print count.get_value() # count = 2"
   ]
  },
  {
   "cell_type": "code",
   "execution_count": 148,
   "metadata": {},
   "outputs": [
    {
     "name": "stdout",
     "output_type": "stream",
     "text": [
      "0\n"
     ]
    }
   ],
   "source": [
    "count.set_value(0)\n",
    "print count.get_value() # count = 0"
   ]
  },
  {
   "cell_type": "markdown",
   "metadata": {},
   "source": [
    "### Variable Substitution\n",
    "Example:"
   ]
  },
  {
   "cell_type": "code",
   "execution_count": 149,
   "metadata": {
    "collapsed": true
   },
   "outputs": [],
   "source": [
    "# Define variables\n",
    "x = T.scalar()\n",
    "y = 2 * x + 5 \n",
    "z = y**2"
   ]
  },
  {
   "cell_type": "code",
   "execution_count": 150,
   "metadata": {
    "collapsed": true
   },
   "outputs": [],
   "source": [
    "# define function\n",
    "fy2 = theano.function([x], z)"
   ]
  },
  {
   "cell_type": "code",
   "execution_count": 151,
   "metadata": {},
   "outputs": [
    {
     "name": "stdout",
     "output_type": "stream",
     "text": [
      "The output file is available at z.png\n"
     ]
    }
   ],
   "source": [
    "theano.printing.pydotprint(z, outfile=\"z.png\", var_with_name_simple=True)"
   ]
  },
  {
   "cell_type": "markdown",
   "metadata": {},
   "source": [
    "![fy2](z.png)"
   ]
  },
  {
   "cell_type": "code",
   "execution_count": 152,
   "metadata": {},
   "outputs": [
    {
     "name": "stdout",
     "output_type": "stream",
     "text": [
      "225.0\n"
     ]
    }
   ],
   "source": [
    "print fy2(5)"
   ]
  },
  {
   "cell_type": "code",
   "execution_count": 153,
   "metadata": {
    "collapsed": true
   },
   "outputs": [],
   "source": [
    "# new variable. Same type as y.\n",
    "n=T.scalar('n', dtype=y.dtype)"
   ]
  },
  {
   "cell_type": "code",
   "execution_count": 154,
   "metadata": {
    "collapsed": true
   },
   "outputs": [],
   "source": [
    "# new function.\n",
    "# y in the calculation tree is replaced by n.\n",
    "fyn = theano.function([n], z, givens=[(y, n)])"
   ]
  },
  {
   "cell_type": "code",
   "execution_count": 155,
   "metadata": {},
   "outputs": [
    {
     "name": "stdout",
     "output_type": "stream",
     "text": [
      "25.0\n"
     ]
    }
   ],
   "source": [
    "print fyn(5)"
   ]
  },
  {
   "cell_type": "code",
   "execution_count": 156,
   "metadata": {},
   "outputs": [
    {
     "name": "stdout",
     "output_type": "stream",
     "text": [
      "The output file is available at fyn.png\n"
     ]
    }
   ],
   "source": [
    "theano.printing.pydotprint(fyn, outfile=\"fyn.png\", var_with_name_simple=True)"
   ]
  },
  {
   "cell_type": "markdown",
   "metadata": {},
   "source": [
    "![fyn](fyn.png)"
   ]
  },
  {
   "cell_type": "markdown",
   "metadata": {},
   "source": [
    "### Random Variables\n",
    "Example: Create a uniform random variable."
   ]
  },
  {
   "cell_type": "code",
   "execution_count": 157,
   "metadata": {
    "collapsed": true
   },
   "outputs": [],
   "source": [
    "from theano.tensor.shared_randomstreams import RandomStreams\n",
    "# Create a RNG instance, as a “shared variable”\n",
    "rng = RandomStreams()"
   ]
  },
  {
   "cell_type": "code",
   "execution_count": 158,
   "metadata": {
    "collapsed": true
   },
   "outputs": [],
   "source": [
    "# Create a 'uniform' random variable\n",
    "rv_u = rng.uniform()"
   ]
  },
  {
   "cell_type": "code",
   "execution_count": 159,
   "metadata": {
    "collapsed": true
   },
   "outputs": [],
   "source": [
    "# create a theano function from the variable\n",
    "fu = theano.function([], rv_u)"
   ]
  },
  {
   "cell_type": "code",
   "execution_count": 160,
   "metadata": {},
   "outputs": [
    {
     "name": "stdout",
     "output_type": "stream",
     "text": [
      "0.240574300289\n",
      "0.125310853124\n",
      "0.352891802788\n",
      "0.0947354361415\n",
      "0.589268386364\n",
      "0.698480427265\n",
      "0.357224285603\n",
      "0.304968297482\n",
      "0.231035396457\n",
      "0.182564839721\n"
     ]
    }
   ],
   "source": [
    "for i in range(10):\n",
    "    print fu()"
   ]
  },
  {
   "cell_type": "code",
   "execution_count": 161,
   "metadata": {
    "collapsed": true
   },
   "outputs": [],
   "source": [
    "anArray = []\n",
    "for i in range(1000):\n",
    "    anArray.append(fu())"
   ]
  },
  {
   "cell_type": "code",
   "execution_count": 162,
   "metadata": {},
   "outputs": [
    {
     "data": {
      "text/plain": [
       "<matplotlib.collections.PathCollection at 0x659199b0>"
      ]
     },
     "execution_count": 162,
     "metadata": {},
     "output_type": "execute_result"
    },
    {
     "data": {
      "image/png": "[encoded data removed]",
      "text/plain": [
       "<matplotlib.figure.Figure at 0x65d322e8>"
      ]
     },
     "metadata": {},
     "output_type": "display_data"
    }
   ],
   "source": [
    "plt.scatter(range(1000),anArray)"
   ]
  },
  {
   "cell_type": "code",
   "execution_count": 163,
   "metadata": {
    "collapsed": true
   },
   "outputs": [],
   "source": [
    "# Seeding RNG\n",
    "rng = RandomStreams(seed=1234)"
   ]
  },
  {
   "cell_type": "code",
   "execution_count": 164,
   "metadata": {
    "collapsed": true
   },
   "outputs": [],
   "source": [
    "# Other distributions\n",
    "rv_u = rng.binomial((3,3))\n",
    "rv_n = rng.normal((2,2))\n",
    "rv_i = rng.random_integers(high=1024)"
   ]
  },
  {
   "cell_type": "code",
   "execution_count": 165,
   "metadata": {
    "collapsed": true
   },
   "outputs": [],
   "source": [
    "# Use RV as regular shared variable\n",
    "y = rv_i ** 2"
   ]
  },
  {
   "cell_type": "code",
   "execution_count": 166,
   "metadata": {
    "collapsed": true
   },
   "outputs": [],
   "source": [
    "# define Theano function\n",
    "gi = theano.function([], (rv_i, y))"
   ]
  },
  {
   "cell_type": "code",
   "execution_count": 167,
   "metadata": {},
   "outputs": [
    {
     "name": "stdout",
     "output_type": "stream",
     "text": [
      "[array(633L, dtype=int64), array(400689L, dtype=int64)]\n",
      "[array(902L, dtype=int64), array(813604L, dtype=int64)]\n",
      "[array(61L, dtype=int64), array(3721L, dtype=int64)]\n",
      "[array(937L, dtype=int64), array(877969L, dtype=int64)]\n",
      "[array(344L, dtype=int64), array(118336L, dtype=int64)]\n",
      "[array(406L, dtype=int64), array(164836L, dtype=int64)]\n",
      "[array(181L, dtype=int64), array(32761L, dtype=int64)]\n",
      "[array(259L, dtype=int64), array(67081L, dtype=int64)]\n",
      "[array(116L, dtype=int64), array(13456L, dtype=int64)]\n",
      "[array(707L, dtype=int64), array(499849L, dtype=int64)]\n"
     ]
    }
   ],
   "source": [
    "for i in range(10):\n",
    "    print gi()"
   ]
  },
  {
   "cell_type": "code",
   "execution_count": 168,
   "metadata": {
    "collapsed": true
   },
   "outputs": [],
   "source": [
    "# Create a RNG class\n",
    "rng = RandomStreams()\n",
    "# Create a 'uniform' random variable  \n",
    "rv_u = rng.uniform() \n",
    "\n",
    "# create a theano function from the variable\n",
    "gu = theano.function([], rv_u, no_default_updates=True)"
   ]
  },
  {
   "cell_type": "code",
   "execution_count": 169,
   "metadata": {},
   "outputs": [
    {
     "name": "stdout",
     "output_type": "stream",
     "text": [
      "0.000879142258782\n",
      "0.000879142258782\n",
      "0.000879142258782\n",
      "0.000879142258782\n",
      "0.000879142258782\n"
     ]
    }
   ],
   "source": [
    "for i in range(5):\n",
    "    print gu()"
   ]
  },
  {
   "cell_type": "code",
   "execution_count": 170,
   "metadata": {
    "collapsed": true
   },
   "outputs": [],
   "source": [
    "# create output y from rv_u\n",
    "y = 2 * rv_u - 2 * rv_u\n",
    "fuy = theano.function([], y)"
   ]
  },
  {
   "cell_type": "code",
   "execution_count": 171,
   "metadata": {},
   "outputs": [
    {
     "name": "stdout",
     "output_type": "stream",
     "text": [
      "0.0\n",
      "0.0\n",
      "0.0\n",
      "0.0\n",
      "0.0\n"
     ]
    }
   ],
   "source": [
    "for i in range(5):\n",
    "    print fuy()"
   ]
  },
  {
   "cell_type": "markdown",
   "metadata": {},
   "source": [
    "### Evaluating Expressions"
   ]
  },
  {
   "cell_type": "code",
   "execution_count": 172,
   "metadata": {},
   "outputs": [
    {
     "data": {
      "text/plain": [
       "array(9.0, dtype=float32)"
      ]
     },
     "execution_count": 172,
     "metadata": {},
     "output_type": "execute_result"
    }
   ],
   "source": [
    "# Define Symbolic Variables\n",
    "a = T.constant(2)\n",
    "x = T.scalar()\n",
    "c = T.constant(5)\n",
    "\n",
    "# Define Symbolic Expression\n",
    "y = a * x + c # Also y = 2 * x + 5\n",
    "\n",
    "# Define Function f(x) = y\n",
    "fx = theano.function(inputs=[x], outputs=y)\n",
    "\n",
    "fx(2)"
   ]
  },
  {
   "cell_type": "code",
   "execution_count": 173,
   "metadata": {},
   "outputs": [
    {
     "name": "stdout",
     "output_type": "stream",
     "text": [
      "9.0\n"
     ]
    }
   ],
   "source": [
    "# Execute/Calculate\n",
    "print y.eval({x: 2})"
   ]
  },
  {
   "cell_type": "markdown",
   "metadata": {},
   "source": [
    "## Examples\n",
    "### [Logistic Regression](01-Theano_logistic.ipynb)\n",
    "### [Multilayer Perceptron](02-Theano_MLP.ipynb)\n",
    "### [Convolutional Neural Networks (LeNeT5)](03-Theano_lenet.ipynb)\n"
   ]
  },
  {
   "cell_type": "markdown",
   "metadata": {},
   "source": [
    "## Installation Notes\n",
    "### Installing theano on Windows\n",
    "* WinPython \n",
    "    * Install WinPython\n",
    "    * Includes theano 0.7 and other dependencies\n",
    "    * Includes the g++ compiler\n",
    "    * Add g++ compiler to your PATH\n",
    "* Anaconda\n",
    "    * Install Anaconda, or miniconda\n",
    "    * Install theano, _conda install theano_\n",
    "    * Install g++ compiler, _conda install m2w64-gcc_\n",
    "* For GPU\n",
    "    * Install latest drivers for GPU card\n",
    "    * Install CUDA Development Kit\n",
    "    * Install cuDNN if your GPU supports\n",
    "    * Install Visual C++ compiler\n",
    "\n",
    "### Installing theano on Linux\n",
    "* Install/update python \n",
    "<pre>\n",
    "$sudo apt-get install python-numpy python-scipy python-dev python-pip python-nose g++ libopenblas-dev git \n",
    "$sudo pip install Theano\n",
    "</pre>\n",
    "\n",
    "* For GPU\n",
    "    * Install latest drivers for GPU card\n",
    "    * Install CUDA Development Kit\n",
    "    * Install cuDNN if your GPU supports\n",
    "    * Add nvcc compiler to your PATH"
   ]
  },
  {
   "cell_type": "markdown",
   "metadata": {},
   "source": [
    "### Using GPU with theano\n",
    "* Environment variable\n",
    "<pre>\n",
    "export THEANO_FLAGS=“device=gpu0,floatX=float32”\n",
    "python …\n",
    "</pre>\n",
    "or\n",
    "<pre>THEANO_FLAGS=“device=gpu0,floatX=float32” python …</pre>\n",
    "\n",
    "* Config File ~/.theanorc\n",
    "<pre>\n",
    "[global]\n",
    "floatX = float32\n",
    "device = gpu0 \n",
    "</pre>"
   ]
  },
  {
   "cell_type": "markdown",
   "metadata": {},
   "source": [
    "## Resources"
   ]
  },
  {
   "cell_type": "markdown",
   "metadata": {},
   "source": [
    "* Theano Website: http://deeplearning.net/software/theano\n",
    "* Theano Documentation: http://deeplearning.net/software/theano/#documentation\n",
    "* Deep Learning with Theano: http://www.deeplearning.net/tutorial\n",
    "* Theano Workshop: https://github.com/goodfeli/theano_exercises\n",
    "* WinPython: http://winpython.sourceforge.net\n",
    "* Anaconda: http://www.continuum.io/"
   ]
  },
  {
   "cell_type": "code",
   "execution_count": null,
   "metadata": {
    "collapsed": true
   },
   "outputs": [],
   "source": []
  }
 ],
 "metadata": {
  "kernelspec": {
   "display_name": "Python 2",
   "language": "python",
   "name": "python2"
  },
  "language_info": {
   "codemirror_mode": {
    "name": "ipython",
    "version": 2
   },
   "file_extension": ".py",
   "mimetype": "text/x-python",
   "name": "python",
   "nbconvert_exporter": "python",
   "pygments_lexer": "ipython2",
   "version": "2.7.13"
  }
 },
 "nbformat": 4,
 "nbformat_minor": 2
}
