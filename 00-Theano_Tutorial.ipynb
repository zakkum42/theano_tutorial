{
 "cells": [
  {
   "cell_type": "markdown",
   "metadata": {
    "deletable": true,
    "editable": true
   },
   "source": [
    "# theano Tutorial\n"
   ]
  },
  {
   "cell_type": "markdown",
   "metadata": {
    "deletable": true,
    "editable": true
   },
   "source": [
    "## What’s Theano\n",
    "A Python library for symbolic mathematics \n",
    "* Symbolic expression language/compiler \n",
    "* Tightly integrated with the Python ecosystem\n",
    "* Fast C/CUDA back-end and transparent GPU acceleration\n",
    "\n",
    "Developed at University of Montreal / Canada (January 2008)"
   ]
  },
  {
   "cell_type": "markdown",
   "metadata": {
    "deletable": true,
    "editable": true
   },
   "source": [
    "## Basic Concepts\n",
    "### General Steps of theano Applications\n",
    "* import theano package\n",
    "* Define theano _variables_\n",
    "* Define _symbolic expressions_ using variables\n",
    "* Compile a _function_ that can compute numeric values using expressions\n",
    "* Execute that function on data\n",
    "\n",
    "#### import theano package"
   ]
  },
  {
   "cell_type": "code",
   "execution_count": null,
   "metadata": {
    "collapsed": false,
    "deletable": true,
    "editable": true
   },
   "outputs": [],
   "source": [
    "import theano\n",
    "import theano.tensor as T\n",
    "theano.__version__"
   ]
  },
  {
   "cell_type": "code",
   "execution_count": null,
   "metadata": {
    "collapsed": false,
    "deletable": true,
    "editable": true
   },
   "outputs": [],
   "source": [
    "# Other libraries\n",
    "import numpy as np\n",
    "import matplotlib.pyplot as plt\n",
    "%matplotlib inline"
   ]
  },
  {
   "cell_type": "markdown",
   "metadata": {
    "deletable": true,
    "editable": true
   },
   "source": [
    "#### Define theano variables\n",
    "##### Constants"
   ]
  },
  {
   "cell_type": "code",
   "execution_count": null,
   "metadata": {
    "collapsed": false,
    "deletable": true,
    "editable": true
   },
   "outputs": [],
   "source": [
    "Lr = T.constant(0.01, 'LearingRate', dtype='float64')\n",
    "print (Lr)"
   ]
  },
  {
   "cell_type": "markdown",
   "metadata": {
    "deletable": true,
    "editable": true
   },
   "source": [
    "##### Scalars (0-d)"
   ]
  },
  {
   "cell_type": "code",
   "execution_count": null,
   "metadata": {
    "collapsed": false,
    "deletable": true,
    "editable": true
   },
   "outputs": [],
   "source": [
    "Lr = T.scalar(dtype='float64')\n",
    "# or\n",
    "Lr = T.dscalar('LearningRate')"
   ]
  },
  {
   "cell_type": "markdown",
   "metadata": {
    "deletable": true,
    "editable": true
   },
   "source": [
    "Other scalar types:\n",
    "\n",
    "|Usage      |Size/Type |\n",
    "|-----------|----------|\n",
    "|T.fscalar()|float32   |\n",
    "|T.dscalar()|float64   |\n",
    "|T.bscalar()|int8      |\n",
    "|T.wscalar()|int16     |\n",
    "|T.iscalar()|int32     |\n",
    "|T.lscalar()|int64     |\n",
    "|T.cscalar()|complex64 |\n",
    "|T.zscalar()|complex128|"
   ]
  },
  {
   "cell_type": "markdown",
   "metadata": {
    "deletable": true,
    "editable": true
   },
   "source": [
    "##### Vectors (1-d)"
   ]
  },
  {
   "cell_type": "code",
   "execution_count": null,
   "metadata": {
    "collapsed": false,
    "deletable": true,
    "editable": true
   },
   "outputs": [],
   "source": [
    "X = T.vector('X', dtype='float32')\n",
    "# or\n",
    "Y = T.dvector('Y') # dtype='float64'"
   ]
  },
  {
   "cell_type": "markdown",
   "metadata": {
    "deletable": true,
    "editable": true
   },
   "source": [
    "##### Matrices (2-d)"
   ]
  },
  {
   "cell_type": "code",
   "execution_count": null,
   "metadata": {
    "collapsed": true,
    "deletable": true,
    "editable": true
   },
   "outputs": [],
   "source": [
    "W = T.matrix('W', dtype='float32')\n",
    "# or\n",
    "b = T.dmatrix('b') # dtype='float64'"
   ]
  },
  {
   "cell_type": "markdown",
   "metadata": {
    "deletable": true,
    "editable": true
   },
   "source": [
    "#### Define symbolic expressions using variables\n",
    "Example: $y = 2 * x + 5$"
   ]
  },
  {
   "cell_type": "code",
   "execution_count": null,
   "metadata": {
    "collapsed": false,
    "deletable": true,
    "editable": true
   },
   "outputs": [],
   "source": [
    "a = T.constant(2)\n",
    "x = T.scalar('x')\n",
    "c = T.constant(5)"
   ]
  },
  {
   "cell_type": "code",
   "execution_count": null,
   "metadata": {
    "collapsed": false,
    "deletable": true,
    "editable": true
   },
   "outputs": [],
   "source": [
    "y = a * x + c"
   ]
  },
  {
   "cell_type": "markdown",
   "metadata": {
    "deletable": true,
    "editable": true
   },
   "source": [
    "#### Compile Function\n",
    "Example: $f(x) = y = 2 * x + 5$"
   ]
  },
  {
   "cell_type": "code",
   "execution_count": null,
   "metadata": {
    "collapsed": true,
    "deletable": true,
    "editable": true
   },
   "outputs": [],
   "source": [
    "fx = theano.function(inputs=[x], outputs=y)"
   ]
  },
  {
   "cell_type": "markdown",
   "metadata": {
    "deletable": true,
    "editable": true
   },
   "source": [
    "#### Execute function\n",
    "Example: $f(5)$"
   ]
  },
  {
   "cell_type": "code",
   "execution_count": null,
   "metadata": {
    "collapsed": false,
    "deletable": true,
    "editable": true
   },
   "outputs": [],
   "source": [
    "# Now let's try\n"
   ]
  },
  {
   "cell_type": "markdown",
   "metadata": {
    "deletable": true,
    "editable": true
   },
   "source": [
    "#### More on Symbolic Expressions"
   ]
  },
  {
   "cell_type": "code",
   "execution_count": null,
   "metadata": {
    "collapsed": true,
    "deletable": true,
    "editable": true
   },
   "outputs": [],
   "source": [
    "from theano import pp\n"
   ]
  },
  {
   "cell_type": "code",
   "execution_count": null,
   "metadata": {
    "collapsed": false,
    "deletable": true,
    "editable": true
   },
   "outputs": [],
   "source": [
    "pp(y)"
   ]
  },
  {
   "cell_type": "code",
   "execution_count": null,
   "metadata": {
    "collapsed": false,
    "deletable": true,
    "editable": true
   },
   "outputs": [],
   "source": [
    "pp(fx.maker.fgraph.outputs[0])"
   ]
  },
  {
   "cell_type": "code",
   "execution_count": null,
   "metadata": {
    "collapsed": false,
    "deletable": true,
    "editable": true
   },
   "outputs": [],
   "source": [
    "theano.printing.debugprint(y)"
   ]
  },
  {
   "cell_type": "code",
   "execution_count": null,
   "metadata": {
    "collapsed": false,
    "deletable": true,
    "editable": true
   },
   "outputs": [],
   "source": [
    "theano.printing.debugprint(fx)"
   ]
  },
  {
   "cell_type": "code",
   "execution_count": null,
   "metadata": {
    "collapsed": false,
    "deletable": true,
    "editable": true
   },
   "outputs": [],
   "source": [
    "theano.printing.pydotprint(y, outfile=\"y.png\", var_with_name_simple=True)"
   ]
  },
  {
   "cell_type": "markdown",
   "metadata": {
    "deletable": true,
    "editable": true
   },
   "source": [
    "![y](y.png)"
   ]
  },
  {
   "cell_type": "code",
   "execution_count": null,
   "metadata": {
    "collapsed": false,
    "deletable": true,
    "editable": true
   },
   "outputs": [],
   "source": [
    "theano.printing.pydotprint(fx, outfile=\"fx.png\", var_with_name_simple=True)"
   ]
  },
  {
   "cell_type": "markdown",
   "metadata": {
    "deletable": true,
    "editable": true
   },
   "source": [
    "![fx](fx.png)"
   ]
  },
  {
   "cell_type": "markdown",
   "metadata": {
    "deletable": true,
    "editable": true
   },
   "source": [
    "#### Vector Example\n",
    "Example: $f(X,Y) = X + Y$, where $X$, and $Y$ are vectors."
   ]
  },
  {
   "cell_type": "code",
   "execution_count": null,
   "metadata": {
    "collapsed": true,
    "deletable": true,
    "editable": true
   },
   "outputs": [],
   "source": [
    "# Define Symbolic Variables\n",
    "X = T.vector('X')\n",
    "Y = T.vector('Y')"
   ]
  },
  {
   "cell_type": "code",
   "execution_count": null,
   "metadata": {
    "collapsed": false,
    "deletable": true,
    "editable": true
   },
   "outputs": [],
   "source": [
    "# Define Symbolic Expression\n",
    "sum = X+Y"
   ]
  },
  {
   "cell_type": "code",
   "execution_count": null,
   "metadata": {
    "collapsed": true,
    "deletable": true,
    "editable": true
   },
   "outputs": [],
   "source": [
    "# Define Function f(X,Y) \n",
    "sumXY = theano.function(inputs=[X,Y], outputs=sum)"
   ]
  },
  {
   "cell_type": "code",
   "execution_count": null,
   "metadata": {
    "collapsed": false,
    "deletable": true,
    "editable": true
   },
   "outputs": [],
   "source": [
    "# add [1,1,1] and [2,2,2]"
   ]
  },
  {
   "cell_type": "markdown",
   "metadata": {
    "deletable": true,
    "editable": true
   },
   "source": [
    "#### Matrix Example\n",
    "Example: $f(X) = X^T$ and $g(X,Y) = X Y$"
   ]
  },
  {
   "cell_type": "code",
   "execution_count": null,
   "metadata": {
    "collapsed": true,
    "deletable": true,
    "editable": true
   },
   "outputs": [],
   "source": [
    "# Define Symbolic Variables\n",
    "Xm = T.matrix('X')\n",
    "Ym = T.matrix('Y')"
   ]
  },
  {
   "cell_type": "code",
   "execution_count": null,
   "metadata": {
    "collapsed": true,
    "deletable": true,
    "editable": true
   },
   "outputs": [],
   "source": [
    "# Define Symbolic Expression\n",
    "X_transpose = T.transpose(Xm)\n",
    "XY_prod = T.dot(Xm,Ym)"
   ]
  },
  {
   "cell_type": "code",
   "execution_count": null,
   "metadata": {
    "collapsed": true,
    "deletable": true,
    "editable": true
   },
   "outputs": [],
   "source": [
    "# Define Functions\n",
    "Xt = theano.function([Xm], X_transpose)"
   ]
  },
  {
   "cell_type": "code",
   "execution_count": null,
   "metadata": {
    "collapsed": false,
    "deletable": true,
    "editable": true
   },
   "outputs": [],
   "source": [
    "X = np.matrix([\n",
    "    [1, 2, 3],\n",
    "    [4, 5, 6],\n",
    "    [7, 8, 9]\n",
    "], dtype='float32')\n",
    "print \"X=\"; print X\n",
    "\n",
    "Y = np.identity(3) * 5\n",
    "print \"Y=\"; print Y"
   ]
  },
  {
   "cell_type": "code",
   "execution_count": null,
   "metadata": {
    "collapsed": false,
    "deletable": true,
    "editable": true
   },
   "outputs": [],
   "source": [
    "Xt(X)"
   ]
  },
  {
   "cell_type": "code",
   "execution_count": null,
   "metadata": {
    "collapsed": false,
    "deletable": true,
    "editable": true
   },
   "outputs": [],
   "source": [
    "prodXY = theano.function([Xm,Ym], XY_prod)"
   ]
  },
  {
   "cell_type": "code",
   "execution_count": null,
   "metadata": {
    "collapsed": false,
    "deletable": true,
    "editable": true
   },
   "outputs": [],
   "source": [
    "prodXY(X, Y)"
   ]
  },
  {
   "cell_type": "markdown",
   "metadata": {
    "deletable": true,
    "editable": true
   },
   "source": [
    "#### Tensor Operations\n",
    "* Data types (vector, matrix, tensor3, tensor4, etc.)\n",
    "* Vector/Matrix (dot, transpose, ones,  zeros, etc.)\n",
    "* Power (power, exp, exp2, etc.)\n",
    "* Logarithm (log, log10, log2, log1p, etc.)\n",
    "* Trigonometry (sin[h], cos[h], tan[h], etc.)\n",
    "* Logic operators (and, or, xor, etc.) \n",
    "* Comparators (eq, lt, gt, ge, le, neq, etc.) \n",
    "* Bitwise operators (bitwise_and, bitwise_or, etc.)\n",
    "* max, min, argmax, argmin, etc.\n",
    "* square, sqrt, etc.\n",
    "* ceil, floor, etc."
   ]
  },
  {
   "cell_type": "code",
   "execution_count": null,
   "metadata": {
    "collapsed": false,
    "deletable": true,
    "editable": true
   },
   "outputs": [],
   "source": [
    "logX = T.log(Xm)"
   ]
  },
  {
   "cell_type": "code",
   "execution_count": null,
   "metadata": {
    "collapsed": false,
    "deletable": true,
    "editable": true
   },
   "outputs": [],
   "source": [
    "flX = theano.function([Xm], logX)"
   ]
  },
  {
   "cell_type": "code",
   "execution_count": null,
   "metadata": {
    "collapsed": false,
    "deletable": true,
    "editable": true
   },
   "outputs": [],
   "source": [
    "flX(X)"
   ]
  },
  {
   "cell_type": "markdown",
   "metadata": {
    "deletable": true,
    "editable": true
   },
   "source": [
    "## More Theano Concepts\n",
    "### Default Input Values\n",
    "Example: Consider following function definition in python:\n",
    "<pre>\n",
    "def fxy(x, y=1): \n",
    "</pre>\n",
    "Let's mimic this with _theano_."
   ]
  },
  {
   "cell_type": "code",
   "execution_count": null,
   "metadata": {
    "collapsed": true,
    "deletable": true,
    "editable": true
   },
   "outputs": [],
   "source": [
    "from theano import In\n",
    "# Define Symbolic Expression\n",
    "x, y = T.dscalars('x', 'y')\n",
    "z = x + y\n",
    "\n",
    "# Define Functions\n",
    "fxy = theano.function([x, In(y, value=1)], z)"
   ]
  },
  {
   "cell_type": "code",
   "execution_count": null,
   "metadata": {
    "collapsed": false,
    "deletable": true,
    "editable": true
   },
   "outputs": [],
   "source": [
    "fxy(33)"
   ]
  },
  {
   "cell_type": "code",
   "execution_count": null,
   "metadata": {
    "collapsed": false,
    "deletable": true,
    "editable": true
   },
   "outputs": [],
   "source": [
    "fxy(33,2)"
   ]
  },
  {
   "cell_type": "markdown",
   "metadata": {
    "deletable": true,
    "editable": true
   },
   "source": [
    "### Input Variable Names\n",
    "Example: Consider following function definition in python:\n",
    "<pre>\n",
    "def fxyw(x, y=1, weight=2): \n",
    "</pre>\n",
    "Let's mimic this with _theano_.\n"
   ]
  },
  {
   "cell_type": "code",
   "execution_count": null,
   "metadata": {
    "collapsed": true,
    "deletable": true,
    "editable": true
   },
   "outputs": [],
   "source": [
    "# Define Symbolic Expression\n",
    "x, y, w = T.dscalars('x', 'y', 'w')\n",
    "z = (x + y) * w\n",
    "\n",
    "# Define Functions\n",
    "fxyw = theano.function([x, In(y, value=1), \n",
    "                           In(w, value=2, name='weight')], z)\n"
   ]
  },
  {
   "cell_type": "code",
   "execution_count": null,
   "metadata": {
    "collapsed": false,
    "deletable": true,
    "editable": true
   },
   "outputs": [],
   "source": [
    "fxyw(33)"
   ]
  },
  {
   "cell_type": "code",
   "execution_count": null,
   "metadata": {
    "collapsed": false,
    "deletable": true,
    "editable": true
   },
   "outputs": [],
   "source": [
    "fxyw(33, 2)"
   ]
  },
  {
   "cell_type": "code",
   "execution_count": null,
   "metadata": {
    "collapsed": false,
    "deletable": true,
    "editable": true
   },
   "outputs": [],
   "source": [
    "fxyw(33, 0, 1)"
   ]
  },
  {
   "cell_type": "code",
   "execution_count": null,
   "metadata": {
    "collapsed": false,
    "deletable": true,
    "editable": true
   },
   "outputs": [],
   "source": [
    "fxyw(33, weight=1)"
   ]
  },
  {
   "cell_type": "code",
   "execution_count": null,
   "metadata": {
    "collapsed": false,
    "deletable": true,
    "editable": true
   },
   "outputs": [],
   "source": [
    "fxyw(33, weight=1, y=0)"
   ]
  },
  {
   "cell_type": "markdown",
   "metadata": {
    "deletable": true,
    "editable": true
   },
   "source": [
    "### Shared Variables \n",
    "Example: Create a shared variable to count number of _theano_ function calls.\n",
    "<pre>\n",
    "def fy(&lt;inputs&gt;):\n",
    "    &lt;function body&gt;\n",
    "    count = count + 1\n",
    "</pre>"
   ]
  },
  {
   "cell_type": "code",
   "execution_count": null,
   "metadata": {
    "collapsed": true,
    "deletable": true,
    "editable": true
   },
   "outputs": [],
   "source": [
    "# Define Symbolic Expression\n",
    "a = T.constant(2)\n",
    "x = T.scalar()\n",
    "c = T.constant(5)\n",
    "y = a * x + c \n",
    "z = y**2\n",
    "\n",
    "# Define shared variable\n",
    "count = theano.shared(0)\n",
    "\n",
    "# Define Functions\n",
    "fy = theano.function([x], y, updates=[(count, count+1)])\n",
    "fz = theano.function([x], z, updates=[(count, count+1)])"
   ]
  },
  {
   "cell_type": "code",
   "execution_count": null,
   "metadata": {
    "collapsed": false,
    "deletable": true,
    "editable": true
   },
   "outputs": [],
   "source": [
    "print count.get_value() # count = 0\n",
    "print fy(2) \n",
    "print fz(2) # y^2\n",
    "print count.get_value() # count = 2"
   ]
  },
  {
   "cell_type": "code",
   "execution_count": null,
   "metadata": {
    "collapsed": false,
    "deletable": true,
    "editable": true
   },
   "outputs": [],
   "source": [
    "count.set_value(0)\n",
    "print count.get_value() # count = 0"
   ]
  },
  {
   "cell_type": "markdown",
   "metadata": {
    "deletable": true,
    "editable": true
   },
   "source": [
    "### Variable Substitution\n",
    "Example:"
   ]
  },
  {
   "cell_type": "code",
   "execution_count": null,
   "metadata": {
    "collapsed": true,
    "deletable": true,
    "editable": true
   },
   "outputs": [],
   "source": [
    "# Define variables\n",
    "x = T.scalar()\n",
    "y = 2 * x + 5 \n",
    "z = y**2\n",
    "\n",
    "# define function\n",
    "fy2 = theano.function([x], z)"
   ]
  },
  {
   "cell_type": "code",
   "execution_count": null,
   "metadata": {
    "collapsed": true,
    "deletable": true,
    "editable": true
   },
   "outputs": [],
   "source": [
    "# new variable. Same type as y.\n",
    "n=T.scalar('n', dtype=y.dtype)\n",
    "\n",
    "# new function.\n",
    "# y in the calculation tree is replaced by n.\n",
    "fyn = theano.function([n], z, givens=[(y, n)])"
   ]
  },
  {
   "cell_type": "code",
   "execution_count": null,
   "metadata": {
    "collapsed": false,
    "deletable": true,
    "editable": true
   },
   "outputs": [],
   "source": [
    "print fy2(5)"
   ]
  },
  {
   "cell_type": "code",
   "execution_count": null,
   "metadata": {
    "collapsed": false,
    "deletable": true,
    "editable": true
   },
   "outputs": [],
   "source": [
    "print fyn(5)"
   ]
  },
  {
   "cell_type": "markdown",
   "metadata": {
    "deletable": true,
    "editable": true
   },
   "source": [
    "### Random Variables\n",
    "Example: Create a uniform random variable."
   ]
  },
  {
   "cell_type": "code",
   "execution_count": null,
   "metadata": {
    "collapsed": true,
    "deletable": true,
    "editable": true
   },
   "outputs": [],
   "source": [
    "from theano.tensor.shared_randomstreams import RandomStreams\n",
    "# Create a RNG instance, as a “shared variable”\n",
    "rng = RandomStreams()\n",
    "\n",
    "# Create a 'uniform' random variable\n",
    "rv_u = rng.uniform()"
   ]
  },
  {
   "cell_type": "code",
   "execution_count": null,
   "metadata": {
    "collapsed": true,
    "deletable": true,
    "editable": true
   },
   "outputs": [],
   "source": [
    "# create a theano function from the variable\n",
    "fu = theano.function([], rv_u)"
   ]
  },
  {
   "cell_type": "code",
   "execution_count": null,
   "metadata": {
    "collapsed": false,
    "deletable": true,
    "editable": true
   },
   "outputs": [],
   "source": [
    "for i in range(10):\n",
    "    print fu()"
   ]
  },
  {
   "cell_type": "code",
   "execution_count": null,
   "metadata": {
    "collapsed": true,
    "deletable": true,
    "editable": true
   },
   "outputs": [],
   "source": [
    "anArray = []\n",
    "for i in range(1000):\n",
    "    anArray.append(fu())"
   ]
  },
  {
   "cell_type": "code",
   "execution_count": null,
   "metadata": {
    "collapsed": false,
    "deletable": true,
    "editable": true
   },
   "outputs": [],
   "source": [
    "plt.scatter(range(1000),anArray)"
   ]
  },
  {
   "cell_type": "code",
   "execution_count": null,
   "metadata": {
    "collapsed": true,
    "deletable": true,
    "editable": true
   },
   "outputs": [],
   "source": [
    "# Seeding RNG\n",
    "rng = RandomStreams(seed=1234)"
   ]
  },
  {
   "cell_type": "code",
   "execution_count": null,
   "metadata": {
    "collapsed": true,
    "deletable": true,
    "editable": true
   },
   "outputs": [],
   "source": [
    "# Other distributions\n",
    "rv_u = rng.binomial((3,3))\n",
    "rv_n = rng.normal((2,2))\n",
    "rv_i = rng.random_integers(high=1024)"
   ]
  },
  {
   "cell_type": "code",
   "execution_count": null,
   "metadata": {
    "collapsed": true,
    "deletable": true,
    "editable": true
   },
   "outputs": [],
   "source": [
    "# Use RV as regular shared variable\n",
    "y = rv_i ** 2\n",
    "\n",
    "# define Theano function\n",
    "gi = theano.function([], (rv_i, y))"
   ]
  },
  {
   "cell_type": "code",
   "execution_count": null,
   "metadata": {
    "collapsed": false,
    "deletable": true,
    "editable": true
   },
   "outputs": [],
   "source": [
    "for i in range(10):\n",
    "    print gi()"
   ]
  },
  {
   "cell_type": "code",
   "execution_count": null,
   "metadata": {
    "collapsed": true,
    "deletable": true,
    "editable": true
   },
   "outputs": [],
   "source": [
    "# Create a RNG class\n",
    "rng = RandomStreams()\n",
    "# Create a 'uniform' random variable  \n",
    "rv_u = rng.uniform() \n",
    "\n",
    "# create a theano function from the variable\n",
    "gu = theano.function([], rv_u, no_default_updates=True)"
   ]
  },
  {
   "cell_type": "code",
   "execution_count": null,
   "metadata": {
    "collapsed": false,
    "deletable": true,
    "editable": true
   },
   "outputs": [],
   "source": [
    "for i in range(5):\n",
    "    print gu()"
   ]
  },
  {
   "cell_type": "code",
   "execution_count": null,
   "metadata": {
    "collapsed": true,
    "deletable": true,
    "editable": true
   },
   "outputs": [],
   "source": [
    "# create output y from rv_u\n",
    "y = 2 * rv_u - 2 * rv_u\n",
    "fuy = theano.function([], y)"
   ]
  },
  {
   "cell_type": "code",
   "execution_count": null,
   "metadata": {
    "collapsed": false,
    "deletable": true,
    "editable": true
   },
   "outputs": [],
   "source": [
    "for i in range(5):\n",
    "    print fuy()"
   ]
  },
  {
   "cell_type": "markdown",
   "metadata": {
    "deletable": true,
    "editable": true
   },
   "source": [
    "### Evaluating Expressions"
   ]
  },
  {
   "cell_type": "code",
   "execution_count": null,
   "metadata": {
    "collapsed": false,
    "deletable": true,
    "editable": true
   },
   "outputs": [],
   "source": [
    "# Define Symbolic Variables\n",
    "a = T.constant(2)\n",
    "x = T.scalar()\n",
    "c = T.constant(5)\n",
    "\n",
    "# Define Symbolic Expression\n",
    "y = a * x + c # Also y = 2 * x + 5\n",
    "\n",
    "# Define Function f(x) = y\n",
    "fx = theano.function(inputs=[x], outputs=y)\n",
    "\n",
    "fx(2)"
   ]
  },
  {
   "cell_type": "code",
   "execution_count": null,
   "metadata": {
    "collapsed": false,
    "deletable": true,
    "editable": true
   },
   "outputs": [],
   "source": [
    "# Execute/Calculate\n",
    "print y.eval({x: 2})"
   ]
  },
  {
   "cell_type": "markdown",
   "metadata": {
    "deletable": true,
    "editable": true
   },
   "source": [
    "## Examples\n",
    "### [Logistic Regression](01-Theano_logistic.ipynb)\n",
    "### [Multilayer Perceptron](02-Theano_MLP.ipynb)\n",
    "### [Convolutional Neural Networks (LeNeT5)](03-Theano_lenet.ipynb)\n"
   ]
  },
  {
   "cell_type": "markdown",
   "metadata": {
    "deletable": true,
    "editable": true
   },
   "source": [
    "## Installation Notes\n",
    "### Installing theano on Windows\n",
    "* WinPython \n",
    "    * Install WinPython\n",
    "    * Includes theano 0.7 and other dependencies\n",
    "    * Includes the g++ compiler\n",
    "    * Add g++ compiler to your PATH\n",
    "* Anaconda\n",
    "    * Install Anaconda, or miniconda\n",
    "    * Install theano, _conda install theano_\n",
    "    * Install g++ compiler, _conda install m2w64-gcc_\n",
    "* For GPU\n",
    "    * Install latest drivers for GPU card\n",
    "    * Install CUDA Development Kit\n",
    "    * Install cuDNN if your GPU supports\n",
    "    * Install Visual C++ compiler\n",
    "\n",
    "### Installing theano on Linux\n",
    "* Install/update python \n",
    "<pre>\n",
    "$sudo apt-get install python-numpy python-scipy python-dev python-pip python-nose g++ libopenblas-dev git \n",
    "$sudo pip install Theano\n",
    "</pre>\n",
    "\n",
    "* For GPU\n",
    "    * Install latest drivers for GPU card\n",
    "    * Install CUDA Development Kit\n",
    "    * Install cuDNN if your GPU supports\n",
    "    * Add nvcc compiler to your PATH"
   ]
  },
  {
   "cell_type": "markdown",
   "metadata": {
    "deletable": true,
    "editable": true
   },
   "source": [
    "### Using GPU with theano\n",
    "* Environment variable\n",
    "<pre>\n",
    "export THEANO_FLAGS=“device=gpu0,floatX=float32”\n",
    "python …\n",
    "</pre>\n",
    "or\n",
    "<pre>THEANO_FLAGS=“device=gpu0,floatX=float32” python …</pre>\n",
    "\n",
    "* Config File ~/.theanorc\n",
    "<pre>\n",
    "[global]\n",
    "floatX = float32\n",
    "device = gpu0 \n",
    "</pre>"
   ]
  },
  {
   "cell_type": "markdown",
   "metadata": {
    "deletable": true,
    "editable": true
   },
   "source": [
    "## Resources"
   ]
  },
  {
   "cell_type": "markdown",
   "metadata": {
    "deletable": true,
    "editable": true
   },
   "source": [
    "* Theano Website: http://deeplearning.net/software/theano\n",
    "* Theano Documentation: http://deeplearning.net/software/theano/#documentation\n",
    "* Deep Learning with Theano: http://www.deeplearning.net/tutorial\n",
    "* Theano Workshop: https://github.com/goodfeli/theano_exercises\n",
    "* WinPython: http://winpython.sourceforge.net\n",
    "* Anaconda: http://www.continuum.io/"
   ]
  }
 ],
 "metadata": {
  "kernelspec": {
   "display_name": "Python 2",
   "language": "python",
   "name": "python2"
  },
  "language_info": {
   "codemirror_mode": {
    "name": "ipython",
    "version": 2
   },
   "file_extension": ".py",
   "mimetype": "text/x-python",
   "name": "python",
   "nbconvert_exporter": "python",
   "pygments_lexer": "ipython2",
   "version": "2.7.13"
  }
 },
 "nbformat": 4,
 "nbformat_minor": 2
}
